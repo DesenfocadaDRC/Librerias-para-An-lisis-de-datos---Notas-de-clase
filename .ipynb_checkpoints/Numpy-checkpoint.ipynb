{
 "cells": [
  {
   "cell_type": "markdown",
   "id": "e2ab26f9",
   "metadata": {},
   "source": [
    "<h1>Numpy: Notas de clase</h1>"
   ]
  },
  {
   "cell_type": "code",
   "execution_count": 10,
   "id": "16af74c8",
   "metadata": {},
   "outputs": [],
   "source": [
    "import numpy as np"
   ]
  },
  {
   "cell_type": "markdown",
   "id": "652d866f",
   "metadata": {},
   "source": [
    "<h2>¿Qué es numpy?</h2>\n",
    "<p>Numpy es una libreria de computación científica para python. El objeto central de numpy es el <b>ndarray</b> \n",
    "o N-dimensional array, que es una estructura de datos de alto rendimiento para cálculos numéricos.\n",
    "    \n",
    "Cuando el ndarray tiene una sola dimensión también recibe el nombre de <b>Vector</b>, cuando el ndarray tiene 2 \n",
    "dimensiones, recibe el nombre de <b>Matriz</b> y por último si el ndarray tiene N-dimensiones simplemente recibe \n",
    "el nombre de <b>Array</b>.\n",
    "\n",
    "Una de las características a mencionar es que los arrays son <b>homogéneos</b>, lo que significa que todos los datos dentro de un array son del mismo tipo, esto debido a que la homogeneidad de los datos proporciona una mayor eficiencia y un mejor rendimiento en el procesamiento de los datos. Si se quieren usar datos heterogéneos se recomienda usar estructuras de datos como un array tipo object o un dataframe de pandas.</p>"
   ]
  },
  {
   "cell_type": "code",
   "execution_count": 21,
   "id": "40ff80f9",
   "metadata": {
    "collapsed": true
   },
   "outputs": [
    {
     "data": {
      "text/plain": [
       "array([1, 2, 3, 4, 5])"
      ]
     },
     "execution_count": 21,
     "metadata": {},
     "output_type": "execute_result"
    }
   ],
   "source": [
    "vector = np.array ([1, 2, 3, 4, 5])\n",
    "vector"
   ]
  },
  {
   "cell_type": "code",
   "execution_count": 22,
   "id": "518736c7",
   "metadata": {
    "collapsed": true
   },
   "outputs": [
    {
     "data": {
      "text/plain": [
       "array([['1', '2', '3', '4', '5'],\n",
       "       ['a', 'b', 'c', 'd', 'e']], dtype='<U21')"
      ]
     },
     "execution_count": 22,
     "metadata": {},
     "output_type": "execute_result"
    }
   ],
   "source": [
    "matriz = np.array([[1, 2, 3, 4, 5], ['a', 'b', 'c', 'd', 'e']])\n",
    "matriz"
   ]
  },
  {
   "cell_type": "code",
   "execution_count": 23,
   "id": "999eddcc",
   "metadata": {
    "collapsed": true
   },
   "outputs": [
    {
     "data": {
      "text/plain": [
       "array([[['1', '2', '3', '4', '5'],\n",
       "        ['a', 'b', 'c', 'd', 'e']],\n",
       "\n",
       "       [['6', '7', '8', '9', '10'],\n",
       "        ['f', 'g', 'h', 'i', 'j']],\n",
       "\n",
       "       [['11', '12', '13', '14', '15'],\n",
       "        ['k', 'l', 'm', 'n', 'ñ']]], dtype='<U21')"
      ]
     },
     "execution_count": 23,
     "metadata": {},
     "output_type": "execute_result"
    }
   ],
   "source": [
    "ndarray = np.array([[[1, 2, 3, 4, 5], ['a', 'b', 'c', 'd', 'e']],\n",
    "                   [[6, 7, 8, 9, 10], ['f', 'g', 'h', 'i', 'j']],\n",
    "                   [[11, 12, 13, 14, 15], ['k', 'l', 'm', 'n', 'ñ']]])\n",
    "ndarray"
   ]
  },
  {
   "cell_type": "markdown",
   "id": "140f86c1",
   "metadata": {},
   "source": [
    "<h2>Crear Arrays a partir de Tuplas o Listas</h2>"
   ]
  },
  {
   "cell_type": "markdown",
   "id": "220413f2",
   "metadata": {},
   "source": [
    "<p>Las tuplas y las listas son ambas estructuras de datos utilizadas en Python. Son colecciones <b>ordenadas</b> de datos, por un lado las tuplas se crean usando paréntesis (), o em método constructor tuple() y las listas usando llaves [] o el método constructor list(). La diferencia entre las tuplas y las listas radica en que las <b>tuplas son inmutables</b>, mientras que las <b>listas son mutables</b>, es decir que en estas últimas se pueden aplicar operaciones como añadir o eliminar elementos.</p>"
   ]
  },
  {
   "cell_type": "code",
   "execution_count": 24,
   "id": "0e98c9b7",
   "metadata": {
    "collapsed": true
   },
   "outputs": [
    {
     "data": {
      "text/plain": [
       "('Daniela', 'Camila', 'Samuel')"
      ]
     },
     "execution_count": 24,
     "metadata": {},
     "output_type": "execute_result"
    }
   ],
   "source": [
    "tupla = ('Daniela', 'Camila', 'Samuel')\n",
    "tupla"
   ]
  },
  {
   "cell_type": "code",
   "execution_count": 25,
   "id": "ef2d7e71",
   "metadata": {
    "collapsed": true
   },
   "outputs": [
    {
     "data": {
      "text/plain": [
       "['Yesika', 'Javier', 'Leonardo']"
      ]
     },
     "execution_count": 25,
     "metadata": {},
     "output_type": "execute_result"
    }
   ],
   "source": [
    "lista = ['Yesika', 'Javier', 'Leonardo']\n",
    "lista"
   ]
  },
  {
   "cell_type": "markdown",
   "id": "462f91a3",
   "metadata": {},
   "source": [
    "<p>Usando numpy, podemos crear ndarrays a partir de tuplas y listas. Al crear un array a partir de una tupla o una lista, el array resutante será mutable y homogéneo, sin importar las carácteristicas previas de la estructura de datos original.</p>"
   ]
  },
  {
   "cell_type": "code",
   "execution_count": 26,
   "id": "924bb755",
   "metadata": {
    "collapsed": true
   },
   "outputs": [
    {
     "data": {
      "text/plain": [
       "array(['Daniela', 'Camila', 'Samuel'], dtype='<U7')"
      ]
     },
     "execution_count": 26,
     "metadata": {},
     "output_type": "execute_result"
    }
   ],
   "source": [
    "arrayTupla = np.array(tupla)\n",
    "arrayTupla"
   ]
  },
  {
   "cell_type": "code",
   "execution_count": 27,
   "id": "afda31ad",
   "metadata": {
    "collapsed": true
   },
   "outputs": [
    {
     "data": {
      "text/plain": [
       "array(['Yesika', 'Javier', 'Leonardo'], dtype='<U8')"
      ]
     },
     "execution_count": 27,
     "metadata": {},
     "output_type": "execute_result"
    }
   ],
   "source": [
    "arrayLista = np.array(lista)\n",
    "arrayLista"
   ]
  },
  {
   "cell_type": "markdown",
   "id": "0ffee48e",
   "metadata": {},
   "source": [
    "<h2>Tipos de datos</h2>"
   ]
  },
  {
   "cell_type": "markdown",
   "id": "e2f19686",
   "metadata": {},
   "source": [
    "<p>Podemos utilizar varios tipos de datos para crear un array. Algunos de los más comunes son los <b>enteros</b> como int8, int16, int32 e int64, los <b>decimales</b> o de punto flotante como float16, float32, float63, float128, los <b>complejos</b> como complex64 y complex128, los <b>booleanos</b> de tipo bool, los <b>strings</b> str y unicode, y los tipo <b>object</b>\n",
    "\n",
    "Para conocer el tipo de datos de un arra podemos utiliar el atributo <b>dtype</b>. También podemos utilizar dtype como parámetro dentro de la creación del array para establecer el tipo de datos que vamos a utilizar. \n",
    "    \n",
    "Para convertir el tipo de datos de un array podemos utilizar el método <b>astype</b>.\n",
    "</p>"
   ]
  },
  {
   "cell_type": "code",
   "execution_count": 32,
   "id": "9a2a9624",
   "metadata": {
    "collapsed": true
   },
   "outputs": [
    {
     "data": {
      "text/plain": [
       "dtype('int64')"
      ]
     },
     "execution_count": 32,
     "metadata": {},
     "output_type": "execute_result"
    }
   ],
   "source": [
    "enteros = np.array([1,2, 3, 4, 5])\n",
    "enteros.dtype"
   ]
  },
  {
   "cell_type": "code",
   "execution_count": 37,
   "id": "7ded8e1c",
   "metadata": {
    "collapsed": true
   },
   "outputs": [
    {
     "data": {
      "text/plain": [
       "array(['1', '2', '3', '4', '5'], dtype='<U1')"
      ]
     },
     "execution_count": 37,
     "metadata": {},
     "output_type": "execute_result"
    }
   ],
   "source": [
    "arrayTipificado = np.array([1, 2, 3, 4, 5], dtype = 'str')\n",
    "arrayTipificado"
   ]
  },
  {
   "cell_type": "code",
   "execution_count": 43,
   "id": "d0f4f7dd",
   "metadata": {
    "collapsed": true
   },
   "outputs": [
    {
     "data": {
      "text/plain": [
       "(dtype('int64'), dtype('float64'))"
      ]
     },
     "execution_count": 43,
     "metadata": {},
     "output_type": "execute_result"
    }
   ],
   "source": [
    "arrayEntero = np.array([1, 2, 3, 4, 5])\n",
    "arrayFloat = arrayEntero.astype('float64')\n",
    "arrayEntero.dtype, arrayFloat.dtype"
   ]
  },
  {
   "cell_type": "markdown",
   "id": "37995353",
   "metadata": {},
   "source": [
    "<h2>Manipulación de Arrays</h2>"
   ]
  },
  {
   "cell_type": "code",
   "execution_count": null,
   "id": "023e0ea3",
   "metadata": {},
   "outputs": [],
   "source": []
  }
 ],
 "metadata": {
  "kernelspec": {
   "display_name": "Python 3 (ipykernel)",
   "language": "python",
   "name": "python3"
  },
  "language_info": {
   "codemirror_mode": {
    "name": "ipython",
    "version": 3
   },
   "file_extension": ".py",
   "mimetype": "text/x-python",
   "name": "python",
   "nbconvert_exporter": "python",
   "pygments_lexer": "ipython3",
   "version": "3.11.5"
  }
 },
 "nbformat": 4,
 "nbformat_minor": 5
}
